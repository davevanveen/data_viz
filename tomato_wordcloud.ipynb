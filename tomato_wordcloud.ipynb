{
 "cells": [
  {
   "cell_type": "markdown",
   "id": "appointed-spencer",
   "metadata": {},
   "source": [
    "### notebook purpose\n",
    "\n",
    "- input csv created via mytomatoes.com pomodoro method\n",
    "- create list of verbs for wordcloud"
   ]
  },
  {
   "cell_type": "code",
   "execution_count": 1,
   "id": "final-negative",
   "metadata": {},
   "outputs": [],
   "source": [
    "import os, sys\n",
    "import pandas as pd\n",
    "from nltk.stem.wordnet import WordNetLemmatizer as WNL"
   ]
  },
  {
   "cell_type": "code",
   "execution_count": 2,
   "id": "negative-arthur",
   "metadata": {},
   "outputs": [],
   "source": [
    "df = pd.read_csv('csv/mytomatoes.csv', \n",
    "                  sep=',', \n",
    "                  names=['start', 'end', 'did'])\n",
    "# df"
   ]
  },
  {
   "cell_type": "code",
   "execution_count": 3,
   "id": "median-mother",
   "metadata": {},
   "outputs": [],
   "source": [
    "def get_conjug_verb_list(did):\n",
    "    ''' given a list of did (activities), \n",
    "        extract verbs and conjugate to present tense\n",
    "        note: assumes verb is first word in did column '''\n",
    "\n",
    "    verbs = [s.split(' ')[0] for s in did]\n",
    "\n",
    "    verbs_conjug = [WNL().lemmatize(s,'v') for s in verbs]\n",
    "\n",
    "    subs = { # substitutes to manually correct ntlk error\n",
    "            'instal': 'install',\n",
    "            'robustified': 'robustify'\n",
    "    }\n",
    "    verbs_conjug = [subs.get(i,i) for i in verbs_conjug]\n",
    "    assert len(did) == len(verbs_conjug)\n",
    "    \n",
    "    return verbs_conjug\n",
    "\n",
    "def conjug_did_list(did, verbs_conjug):\n",
    "    ''' given a list of did (activities) and conjugated verbs\n",
    "        return the same list w conjugated verbs as first word '''\n",
    "    \n",
    "    did_conjug = []\n",
    "\n",
    "    for idx, d in enumerate(did):\n",
    "\n",
    "        # swap conjugated verb for first word in list\n",
    "        words = d.split(' ')\n",
    "        words[0] = verbs_conjug[idx]\n",
    "        did_conjug.append(' '.join(words))\n",
    "\n",
    "    return did_conjug"
   ]
  },
  {
   "cell_type": "code",
   "execution_count": 4,
   "id": "ranking-thing",
   "metadata": {},
   "outputs": [],
   "source": [
    "did = df['did'].tolist()\n",
    "\n",
    "verbs_conjug = get_conjug_verb_list(did)\n",
    "\n",
    "# did_conjug = conjug_did_list(did, verbs_conjug)\n",
    "\n",
    "with open('verbs.txt', mode='wt', encoding='utf-8') as f:\n",
    "    f.write('\\n'.join(verbs_conjug))"
   ]
  }
 ],
 "metadata": {
  "kernelspec": {
   "display_name": "Python 3",
   "language": "python",
   "name": "python3"
  },
  "language_info": {
   "codemirror_mode": {
    "name": "ipython",
    "version": 3
   },
   "file_extension": ".py",
   "mimetype": "text/x-python",
   "name": "python",
   "nbconvert_exporter": "python",
   "pygments_lexer": "ipython3",
   "version": "3.8.5"
  }
 },
 "nbformat": 4,
 "nbformat_minor": 5
}
