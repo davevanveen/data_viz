{
 "cells": [
  {
   "cell_type": "markdown",
   "id": "appointed-spencer",
   "metadata": {},
   "source": [
    "### notebook purpose\n",
    "\n",
    "input csv created via mytomatoes.com pomodoro method"
   ]
  },
  {
   "cell_type": "code",
   "execution_count": 55,
   "id": "final-negative",
   "metadata": {},
   "outputs": [],
   "source": [
    "import os, sys\n",
    "import pandas as pd\n",
    "from nltk.stem.wordnet import WordNetLemmatizer as WNL"
   ]
  },
  {
   "cell_type": "code",
   "execution_count": 61,
   "id": "negative-arthur",
   "metadata": {},
   "outputs": [],
   "source": [
    "df = pd.read_csv('csv/mytomatoes.csv', \n",
    "                  sep=',', \n",
    "                  names=['start', 'end', 'did'])\n",
    "# df"
   ]
  },
  {
   "cell_type": "markdown",
   "id": "together-hygiene",
   "metadata": {},
   "source": [
    "### todo: clean up code below, build into script\n",
    "\n",
    "- load each string of did and conjug first word (assumes verb) to present tense"
   ]
  },
  {
   "cell_type": "code",
   "execution_count": 48,
   "id": "artistic-concentration",
   "metadata": {},
   "outputs": [
    {
     "data": {
      "text/plain": [
       "(243, 243)"
      ]
     },
     "execution_count": 48,
     "metadata": {},
     "output_type": "execute_result"
    }
   ],
   "source": [
    "len(did), len(verbs_conjug)"
   ]
  },
  {
   "cell_type": "code",
   "execution_count": 52,
   "id": "median-mother",
   "metadata": {},
   "outputs": [],
   "source": [
    "did = df['did'].tolist()\n",
    "\n",
    "verbs = [s.split(' ')[0] for s in did]\n",
    "\n",
    "verbs_conjug = [WNL().lemmatize(s,'v') for s in verbs]\n",
    "\n",
    "subs = { # substitutes to manually correct ntlk error\n",
    "        'instal': 'install',\n",
    "        'robustified': 'robustify'\n",
    "}\n",
    "verbs_conjug = [subs.get(i,i) for i in verbs_conjug]"
   ]
  },
  {
   "cell_type": "code",
   "execution_count": 59,
   "id": "wicked-irrigation",
   "metadata": {},
   "outputs": [],
   "source": [
    "did_conjug = []\n",
    "\n",
    "for idx, d in enumerate(did):\n",
    "    \n",
    "    v_c = verbs_conjug[idx] # conjug verb to swap in\n",
    "    \n",
    "    words = d.split(' ')\n",
    "    \n",
    "    words[0] = v_c\n",
    "    \n",
    "    d_new = ' '.join(words)\n",
    "    \n",
    "    did_conjug.append(d_new)"
   ]
  },
  {
   "cell_type": "code",
   "execution_count": 60,
   "id": "received-federal",
   "metadata": {},
   "outputs": [
    {
     "name": "stdout",
     "output_type": "stream",
     "text": [
      "create create env for data viz\n"
     ]
    },
    {
     "ename": "SystemExit",
     "evalue": "",
     "output_type": "error",
     "traceback": [
      "An exception has occurred, use %tb to see the full traceback.\n",
      "\u001b[0;31mSystemExit\u001b[0m\n"
     ]
    }
   ],
   "source": [
    "for idx, d in enumerate(did):\n",
    "    print(verbs_conjug[idx], d)\n",
    "    sys.exit()"
   ]
  }
 ],
 "metadata": {
  "kernelspec": {
   "display_name": "Python 3",
   "language": "python",
   "name": "python3"
  },
  "language_info": {
   "codemirror_mode": {
    "name": "ipython",
    "version": 3
   },
   "file_extension": ".py",
   "mimetype": "text/x-python",
   "name": "python",
   "nbconvert_exporter": "python",
   "pygments_lexer": "ipython3",
   "version": "3.8.5"
  }
 },
 "nbformat": 4,
 "nbformat_minor": 5
}
